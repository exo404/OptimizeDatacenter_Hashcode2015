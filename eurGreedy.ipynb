{
 "cells": [
  {
   "cell_type": "markdown",
   "metadata": {},
   "source": [
    "# SOLUZIONE GREEDY"
   ]
  },
  {
   "cell_type": "markdown",
   "metadata": {},
   "source": [
    "## Import"
   ]
  },
  {
   "cell_type": "code",
   "execution_count": 1,
   "metadata": {},
   "outputs": [],
   "source": [
    "import math"
   ]
  },
  {
   "cell_type": "markdown",
   "metadata": {},
   "source": [
    "## Funzioni per la gestione dell'input e dell'output"
   ]
  },
  {
   "cell_type": "code",
   "execution_count": 1,
   "metadata": {},
   "outputs": [],
   "source": [
    "def read_input(file_path):\n",
    "    with open(file_path, 'r') as f:\n",
    "        lines = f.readlines()\n",
    "\n",
    "    R, S, U, P, M = map(int, lines[0].strip().split())\n",
    "    unavailable_slots = []\n",
    "\n",
    "    for i in range(1, U + 1):\n",
    "        unavailable_slots.append(tuple(map(int, lines[i].strip().split())))\n",
    "\n",
    "    servers = []\n",
    "    for i in range(U + 1, U + 1 + M):\n",
    "        servers.append(tuple(map(int, lines[i].strip().split())))\n",
    "\n",
    "    return R, S, U, P, M, unavailable_slots, servers\n",
    "\n",
    "def write_output(datacenter, file_path, score, score_path):\n",
    "    datacenter.servers.sort(key=lambda x: x.number, reverse=False)\n",
    "    with open(file_path, 'w') as f:\n",
    "        for srv in datacenter.servers:\n",
    "            if srv == 'x':\n",
    "                f.write('x\\n')\n",
    "            else:\n",
    "                f.write(f\"{srv.row} {srv.slot} {srv.pool}\\n\")\n",
    "    with open(score_path, 'w') as s:\n",
    "        s.write(f\"{score}\\n\")"
   ]
  },
  {
   "cell_type": "markdown",
   "metadata": {},
   "source": [
    "## Lettura dei file di input"
   ]
  },
  {
   "cell_type": "code",
   "execution_count": 2,
   "metadata": {},
   "outputs": [],
   "source": [
    "#path = \"input_output/hashcode_2015_qualification_round.in\"\n",
    "path = \"input_output/input.txt\"\n",
    "R, S, U, P, M, unavailable_slots, serversData = read_input(path)"
   ]
  },
  {
   "cell_type": "markdown",
   "metadata": {},
   "source": [
    "## Modellazione dei Server"
   ]
  },
  {
   "cell_type": "code",
   "execution_count": 3,
   "metadata": {},
   "outputs": [],
   "source": [
    "class Server(object):\n",
    "\n",
    "    def __init__(self, number, size, capacity):\n",
    "        self.number = number\n",
    "        self.size = size\n",
    "        self.capacity = capacity\n",
    "        self.slot = -1\n",
    "        self.row = -1\n",
    "        self.pool = -1\n",
    "\n",
    "    def __str__(self):\n",
    "        return 'size: %d, cap: %d, ratio: %.02f, (%d,%d), pool=%d' % (\n",
    "            self.size, self.capacity, self.ratio, self.slot, self.row,\n",
    "            self.pool)\n",
    "\n",
    "    @property\n",
    "    def ratio(self):\n",
    "        return float(self.capacity) / float(self.size) #Calcolo della densità\n",
    "\n",
    "\n"
   ]
  },
  {
   "cell_type": "markdown",
   "metadata": {},
   "source": [
    "## Modellazione del Datacenter"
   ]
  },
  {
   "cell_type": "code",
   "execution_count": 4,
   "metadata": {},
   "outputs": [],
   "source": [
    "class DataCenter(object):\n",
    "\n",
    "    def __init__(self, R, S, unavailable_slots, P, M, servers):\n",
    "        self.R = R\n",
    "        self.S = S\n",
    "        self.unavailable_slots = unavailable_slots\n",
    "        self.P = P\n",
    "        self.M = M\n",
    "        self.grid = [[0 for _ in range(S)] for _ in range(R)]\n",
    "        self.servers = servers\n",
    "        self.servers.sort(key=lambda x: x.ratio, reverse=True)\n",
    "        self.pools_capacity = [0 for _ in range(P)]\n",
    "\n",
    "    def init_grid(self): #Inizializzazione della griglia con gli slot non disponibili\n",
    "        for r, s in self.unavailable_slots:\n",
    "            self.grid[r][s] = -1\n",
    "\n",
    "    def put_servers(self): #Assegnamento dei server alla griglia in ordine di densità decrescente rispettando i vincoli\n",
    "        for i in range(self.M):\n",
    "            for r in range(self.R):\n",
    "                for s in range(self.S):\n",
    "                    if self.servers[i].row != -1:  #server già piazzato\n",
    "                        break\n",
    "                    if self.grid[r][s] != 0: #slot già assegnato\n",
    "                        continue\n",
    "                    if s + self.servers[i].size > self.S:  #server troppo grande per lo spazio disponibile nella riga\n",
    "                        continue\n",
    "                    can_place = True\n",
    "                    for offset in range(self.servers[i].size): #assicura che gli slot successivi siano liberi per la grandezza del server i\n",
    "                        if self.grid[r][s + offset] != 0:\n",
    "                            can_place = False\n",
    "                            break\n",
    "                    if not can_place:\n",
    "                        continue\n",
    "                    print(f\"Il server {i} con ratio {self.servers[i].ratio} assegnato a ({r},{s})\")\n",
    "                    self.servers[i].row = r\n",
    "                    self.servers[i].slot = s\n",
    "                    for offset in range(self.servers[i].size): #occupa gli slot assegnati al server i\n",
    "                        self.grid[r][s + offset] = 1  \n",
    "                    break\n",
    "\n",
    "    def server_to_pools(self):\n",
    "        min_capacity = 1000\n",
    "        for i in range(self.M):\n",
    "            if self.servers[i].pool != -1: #server già assegnato a un pool \n",
    "                    break\n",
    "            for p in range(self.P): #trova il server con la minore capacità\n",
    "                if self.pools_capacity[p] <= min_capacity:\n",
    "                    min_pool = p\n",
    "                    min_capacity = self.pools_capacity[p] + servers[i].capacity\n",
    "\n",
    "            #Assegna il server al ppol con la minore capacità in modo da bilanciare i pool\n",
    "            self.servers[i].pool = min_pool\n",
    "            self.pools_capacity[min_pool] += self.servers[i].capacity\n",
    "            print(f\"Il server {i} asssegnato al pool {min_pool}\")\n",
    "            \n",
    "    def minimum_guaranteed_capacity(self): #Calcola la capacità minima garantita per ogni pool\n",
    "        z = [0 for p in range(self.P)]\n",
    "        for p in range (self.P):\n",
    "            c_tot = sum(servers[i].capacity for i in range(self.M) if servers[i].pool == p)\n",
    "            for r in range(self.R):\n",
    "                c_row = sum(servers[i].capacity for i in range(self.M) if servers[i].pool == p and servers[i].row == r)\n",
    "            z[p] = c_tot - c_row\n",
    "            print(f\"Il pool {p} ha capacità minima garantita {z[p]}\")\n",
    "        return z"
   ]
  },
  {
   "cell_type": "markdown",
   "metadata": {},
   "source": [
    "## Creazione del datacenter"
   ]
  },
  {
   "cell_type": "code",
   "execution_count": 5,
   "metadata": {},
   "outputs": [
    {
     "name": "stdout",
     "output_type": "stream",
     "text": [
      "Il server 0 con ratio 15.0 assegnato a (0,0)\n",
      "Il server 1 con ratio 10.0 assegnato a (0,1)\n",
      "Il server 2 con ratio 6.666666666666667 assegnato a (1,0)\n",
      "Il server 3 con ratio 5.0 assegnato a (1,3)\n"
     ]
    }
   ],
   "source": [
    "servers = [Server(i, size, capacity) for i, (size, capacity) in enumerate(serversData)]\n",
    "datacenter = DataCenter(R, S, unavailable_slots, P, M, servers)\n",
    "datacenter.init_grid()\n",
    "datacenter.put_servers()"
   ]
  },
  {
   "cell_type": "markdown",
   "metadata": {},
   "source": [
    "## Allocazione dei server ai pool"
   ]
  },
  {
   "cell_type": "code",
   "execution_count": 6,
   "metadata": {},
   "outputs": [
    {
     "name": "stdout",
     "output_type": "stream",
     "text": [
      "Il server 0 asssegnato al pool 1\n",
      "Il server 1 asssegnato al pool 0\n",
      "Il server 2 asssegnato al pool 1\n",
      "Il server 3 asssegnato al pool 0\n",
      "Il pool 0 ha capacità 20\n",
      "Il pool 1 ha capacità 35\n",
      "Il pool 0 ha capacità minima garantita 10\n",
      "Il pool 1 ha capacità minima garantita 15\n"
     ]
    }
   ],
   "source": [
    "datacenter.server_to_pools()\n",
    "for p in range(P):\n",
    "    print(f\"Il pool {p} ha capacità {datacenter.pools_capacity[p]}\")\n",
    "score = min(datacenter.minimum_guaranteed_capacity())       "
   ]
  },
  {
   "cell_type": "markdown",
   "metadata": {},
   "source": [
    "## Elaborazione dell'output"
   ]
  },
  {
   "cell_type": "code",
   "execution_count": 7,
   "metadata": {},
   "outputs": [
    {
     "name": "stdout",
     "output_type": "stream",
     "text": [
      "Score: 10\n"
     ]
    }
   ],
   "source": [
    "write_output(datacenter, \"input_output/outputGreedy.txt\", score, \"input_output/score_greedy.txt\")\n",
    "print(f\"Score: {score}\")"
   ]
  }
 ],
 "metadata": {
  "kernelspec": {
   "display_name": "Python 3",
   "language": "python",
   "name": "python3"
  },
  "language_info": {
   "codemirror_mode": {
    "name": "ipython",
    "version": 3
   },
   "file_extension": ".py",
   "mimetype": "text/x-python",
   "name": "python",
   "nbconvert_exporter": "python",
   "pygments_lexer": "ipython3",
   "version": "3.10.11"
  }
 },
 "nbformat": 4,
 "nbformat_minor": 2
}
