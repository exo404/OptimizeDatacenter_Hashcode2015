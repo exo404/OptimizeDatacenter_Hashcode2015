{
 "cells": [
  {
   "cell_type": "markdown",
   "metadata": {},
   "source": [
    "# SOLUZIONE OTTIMA"
   ]
  },
  {
   "cell_type": "markdown",
   "metadata": {},
   "source": [
    "## Import"
   ]
  },
  {
   "cell_type": "code",
   "execution_count": 5,
   "metadata": {},
   "outputs": [],
   "source": [
    "import gurobipy as gp\n",
    "from gurobipy import GRB"
   ]
  },
  {
   "cell_type": "markdown",
   "metadata": {},
   "source": [
    "## Funzioni per la gestione dell'input e dell'output"
   ]
  },
  {
   "cell_type": "code",
   "execution_count": 6,
   "metadata": {},
   "outputs": [],
   "source": [
    "def read_input(file_path):\n",
    "    with open(file_path, 'r') as f:\n",
    "        lines = f.readlines()\n",
    "\n",
    "    R, S, U, P, M = map(int, lines[0].strip().split())\n",
    "    unavailable_slots = []\n",
    "\n",
    "    for i in range(1, U + 1):\n",
    "        unavailable_slots.append(tuple(map(int, lines[i].strip().split())))\n",
    "\n",
    "    servers = []\n",
    "    for i in range(U + 1, U + 1 + M):\n",
    "        servers.append(tuple(map(int, lines[i].strip().split())))\n",
    "\n",
    "    return R, S, U, P, M, unavailable_slots, servers\n",
    "\n",
    "def write_output(allocation, file_path, score, score_path):\n",
    "    with open(file_path, 'w') as f:\n",
    "        for item in allocation:\n",
    "            if item == 'x':\n",
    "                f.write('x\\n')\n",
    "            else:\n",
    "                f.write(f\"{item[0]} {item[1]} {item[2]}\\n\")\n",
    "    with open(score_path, 'w') as s:\n",
    "        s.write(f\"{score}\\n\")"
   ]
  },
  {
   "cell_type": "markdown",
   "metadata": {},
   "source": [
    "## Lettura dei file di input"
   ]
  },
  {
   "cell_type": "code",
   "execution_count": 7,
   "metadata": {},
   "outputs": [],
   "source": [
    "#path = \"input_output/hashcode_2015_qualification_round.in\"\n",
    "path = \"input_output/input.txt\"\n",
    "R, S, U, P, M, unavailable_slots, servers = read_input(path)"
   ]
  },
  {
   "cell_type": "markdown",
   "metadata": {},
   "source": [
    "## Creazione del modello"
   ]
  },
  {
   "cell_type": "code",
   "execution_count": 8,
   "metadata": {},
   "outputs": [
    {
     "name": "stdout",
     "output_type": "stream",
     "text": [
      "Set parameter Username\n",
      "Academic license - for non-commercial use only - expires 2025-07-15\n"
     ]
    }
   ],
   "source": [
    "model = gp.Model(\"hashcode_pli\")"
   ]
  },
  {
   "cell_type": "markdown",
   "metadata": {},
   "source": [
    "### 1. Variabili di decisione"
   ]
  },
  {
   "cell_type": "code",
   "execution_count": 9,
   "metadata": {},
   "outputs": [],
   "source": [
    "x = model.addVars(M, R, S, vtype=GRB.BINARY, name=\"x\")\n",
    "y = model.addVars(M, P, vtype=GRB.BINARY, name=\"y\")\n",
    "z = model.addVars(P, vtype=GRB.CONTINUOUS, name=\"z\")"
   ]
  },
  {
   "cell_type": "markdown",
   "metadata": {},
   "source": [
    "### 2. Vincoli"
   ]
  },
  {
   "cell_type": "code",
   "execution_count": 10,
   "metadata": {},
   "outputs": [],
   "source": [
    "model.addConstrs(gp.quicksum(x[i, r, s] for r in range(R) for s in range(S)) == 1 for i in range(M))\n",
    "\n",
    "model.addConstrs(gp.quicksum(x[i, r, s] for i in range(M)) <= 1 for r in range(R) for s in range(S))\n",
    "\n",
    "model.addConstrs(gp.quicksum(y[i, p] for p in range(P)) == 1 for i in range(M))\n",
    "\n",
    "for r, s in unavailable_slots:\n",
    "    for i in range(M):\n",
    "        model.addConstr(x[i, r, s] == 0, f\"unavailable_{i}_{r}_{s}\")\n",
    "\n",
    "for i, (size, budget) in enumerate(servers):\n",
    "    for r in range(R):\n",
    "        for s in range(S):\n",
    "            if (s + size > S):\n",
    "                for offset in range(size):\n",
    "                    if (s + offset < S):\n",
    "                        model.addConstr(x[i, r, s + offset] == 0, f\"space_{i}_{r}_{s}\")\n",
    "\n",
    "for p in range(P):\n",
    "    c_tot = gp.quicksum(servers[i][1] * y[i, p] for i in range(M))\n",
    "    \n",
    "    for r in range(R):\n",
    "        c_row = gp.quicksum(servers[i][1] * x[i, r, s] * y[i,p] for i in range(M) for s in range(S))\n",
    "        model.addConstr(z[p] <= c_tot - c_row, name=\"z_constr\")"
   ]
  },
  {
   "cell_type": "markdown",
   "metadata": {},
   "source": [
    "### 3. Funzione obiettivo"
   ]
  },
  {
   "cell_type": "code",
   "execution_count": 11,
   "metadata": {},
   "outputs": [],
   "source": [
    "model.setParam('OutputFlag', 1)\n",
    "\n",
    "model.setObjective(gp.quicksum(z[p] for p in range(P)), GRB.MAXIMIZE)"
   ]
  },
  {
   "cell_type": "markdown",
   "metadata": {},
   "source": [
    "## Calcolo della soluzione"
   ]
  },
  {
   "cell_type": "code",
   "execution_count": 12,
   "metadata": {},
   "outputs": [
    {
     "name": "stdout",
     "output_type": "stream",
     "text": [
      "Gurobi Optimizer version 11.0.2 build v11.0.2rc0 (win64 - Windows 11.0 (22631.2))\n",
      "\n",
      "CPU model: 12th Gen Intel(R) Core(TM) i7-12700H, instruction set [SSE2|AVX|AVX2]\n",
      "Thread count: 14 physical cores, 20 logical processors, using up to 20 threads\n",
      "\n",
      "Optimize a model with 30 rows, 50 columns and 100 nonzeros\n",
      "Model fingerprint: 0xeae5cab7\n",
      "Model has 4 quadratic constraints\n",
      "Variable types: 2 continuous, 48 integer (48 binary)\n",
      "Coefficient statistics:\n",
      "  Matrix range     [1e+00, 1e+00]\n",
      "  QMatrix range    [1e+01, 2e+01]\n",
      "  QLMatrix range   [1e+00, 2e+01]\n",
      "  Objective range  [1e+00, 1e+00]\n",
      "  Bounds range     [1e+00, 1e+00]\n",
      "  RHS range        [1e+00, 1e+00]\n",
      "Presolve removed 17 rows and 13 columns\n",
      "Presolve time: 0.01s\n",
      "Presolved: 110 rows, 68 columns, 392 nonzeros\n",
      "Variable types: 0 continuous, 68 integer (66 binary)\n",
      "Found heuristic solution: objective -0.0000000\n",
      "Found heuristic solution: objective 20.0000000\n",
      "\n",
      "Root relaxation: objective 2.750000e+01, 20 iterations, 0.00 seconds (0.00 work units)\n",
      "\n",
      "    Nodes    |    Current Node    |     Objective Bounds      |     Work\n",
      " Expl Unexpl |  Obj  Depth IntInf | Incumbent    BestBd   Gap | It/Node Time\n",
      "\n",
      "     0     0   27.50000    0    9   20.00000   27.50000  37.5%     -    0s\n",
      "H    0     0                      25.0000000   27.50000  10.0%     -    0s\n",
      "     0     0   27.50000    0   24   25.00000   27.50000  10.0%     -    0s\n",
      "     0     0   27.50000    0    8   25.00000   27.50000  10.0%     -    0s\n",
      "     0     0   27.50000    0    6   25.00000   27.50000  10.0%     -    0s\n",
      "     0     0   27.50000    0   10   25.00000   27.50000  10.0%     -    0s\n",
      "     0     0   27.50000    0    9   25.00000   27.50000  10.0%     -    0s\n",
      "     0     0   27.50000    0    9   25.00000   27.50000  10.0%     -    0s\n",
      "     0     2   27.50000    0    9   25.00000   27.50000  10.0%     -    0s\n",
      "\n",
      "Cutting planes:\n",
      "  Gomory: 5\n",
      "  Implied bound: 1\n",
      "  MIR: 4\n",
      "  StrongCG: 1\n",
      "  Zero half: 3\n",
      "  RLT: 4\n",
      "\n",
      "Explored 146 nodes (1185 simplex iterations) in 0.13 seconds (0.03 work units)\n",
      "Thread count was 20 (of 20 available processors)\n",
      "\n",
      "Solution count 3: 25 20 -0 \n",
      "\n",
      "Optimal solution found (tolerance 1.00e-04)\n",
      "Best objective 2.500000000000e+01, best bound 2.500000000000e+01, gap 0.0000%\n"
     ]
    }
   ],
   "source": [
    "model.optimize()"
   ]
  },
  {
   "cell_type": "code",
   "execution_count": 13,
   "metadata": {},
   "outputs": [
    {
     "name": "stdout",
     "output_type": "stream",
     "text": [
      "Capacità minima garantita per il pool 0: 10.0\n",
      "Capacità minima garantita per il pool 1: 15.0\n"
     ]
    }
   ],
   "source": [
    "score = 1000000000\n",
    "if model.status == GRB.OPTIMAL:\n",
    "    for p in range(P):\n",
    "        print(f\"Capacità minima garantita per il pool {p}: {z[p].X}\")\n",
    "        score = z[p].X if z[p].X < score else score\n",
    "score = int(score)\n",
    "        \n",
    "Xvals = model.getAttr('X', x)\n",
    "Yvals = model.getAttr('X', y)"
   ]
  },
  {
   "cell_type": "markdown",
   "metadata": {},
   "source": [
    "## Elaborazione dell'output"
   ]
  },
  {
   "cell_type": "code",
   "execution_count": 14,
   "metadata": {},
   "outputs": [
    {
     "name": "stdout",
     "output_type": "stream",
     "text": [
      "Score: 10\n"
     ]
    }
   ],
   "source": [
    "allocation = []\n",
    "\n",
    "for i in range(M):\n",
    "    assigned = False\n",
    "        \n",
    "    for r in range(R):\n",
    "        for s in range(S):\n",
    "            if Xvals[i,r,s] == 1:\n",
    "                for p in range(P):\n",
    "                    if Yvals[i,p] == 1:\n",
    "                        allocation.append((r, s, p))\n",
    "                        assigned = True\n",
    "                        break\n",
    "            if assigned:\n",
    "                break\n",
    "        if assigned:\n",
    "            break\n",
    "    if not assigned:\n",
    "        allocation.append('x')\n",
    "\n",
    "write_output(allocation, \"input_output/outputOpt.txt\", score, \"input_output/score_opt.txt\")\n",
    "print(f\"Score: {score}\")"
   ]
  }
 ],
 "metadata": {
  "kernelspec": {
   "display_name": "Python 3",
   "language": "python",
   "name": "python3"
  },
  "language_info": {
   "codemirror_mode": {
    "name": "ipython",
    "version": 3
   },
   "file_extension": ".py",
   "mimetype": "text/x-python",
   "name": "python",
   "nbconvert_exporter": "python",
   "pygments_lexer": "ipython3",
   "version": "3.10.11"
  }
 },
 "nbformat": 4,
 "nbformat_minor": 2
}
